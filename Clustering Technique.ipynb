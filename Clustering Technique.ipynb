{
 "cells": [
  {
   "cell_type": "markdown",
   "id": "5b49804d",
   "metadata": {},
   "source": [
    "# 1. Problem Statement"
   ]
  },
  {
   "cell_type": "markdown",
   "id": "662c3d83",
   "metadata": {},
   "source": [
    "The ads24x7 is a Digital Marketing company which has now got seed funding of $10 Million. They are expanding their wings in Marketing Analytics. They collected data from their Marketing Intelligence team and now wants to segment type of ads based on the features provided. \n",
    "<br>We have to Use Clustering procedure to segment ads into homogeneous groups.\n",
    "\n",
    "The following three features are commonly used in digital marketing:\n",
    "\n",
    "CPM = (Total Campaign Spend / Number of Impressions) * 1,000\n",
    "\n",
    "CPC = Total Cost (spend) / Number of Clicks\n",
    "\n",
    "CTR = Total Measured Clicks / Total Measured Ad Impressions x 100"
   ]
  },
  {
   "cell_type": "markdown",
   "id": "51f19b93",
   "metadata": {},
   "source": [
    "# 2. Data Collection"
   ]
  },
  {
   "cell_type": "markdown",
   "id": "b9eec51c",
   "metadata": {},
   "source": [
    "## Importing Libraries"
   ]
  },
  {
   "cell_type": "code",
   "execution_count": 50,
   "id": "1782291f",
   "metadata": {},
   "outputs": [],
   "source": [
    "import numpy as np\n",
    "import pandas as pd\n",
    "import matplotlib.pyplot as plt\n",
    "import seaborn as sns\n",
    "import scipy.stats as stats\n",
    "\n",
    "from sklearn.impute import SimpleImputer\n",
    "from sklearn.preprocessing import StandardScaler\n",
    "\n",
    "from sklearn.cluster import KMeans\n",
    "from scipy.cluster.hierarchy import dendrogram, linkage\n",
    "from sklearn.metrics import silhouette_samples, silhouette_score"
   ]
  },
  {
   "cell_type": "markdown",
   "id": "465725b4",
   "metadata": {},
   "source": [
    "## Importing dataset"
   ]
  },
  {
   "cell_type": "code",
   "execution_count": 2,
   "id": "4b666dea",
   "metadata": {},
   "outputs": [],
   "source": [
    "#reading the data\n",
    "df = pd.read_excel('Clustering_Clean_Ads_Data.xlsx')"
   ]
  },
  {
   "cell_type": "code",
   "execution_count": 3,
   "id": "004436c3",
   "metadata": {},
   "outputs": [
    {
     "data": {
      "text/html": [
       "<div>\n",
       "<style scoped>\n",
       "    .dataframe tbody tr th:only-of-type {\n",
       "        vertical-align: middle;\n",
       "    }\n",
       "\n",
       "    .dataframe tbody tr th {\n",
       "        vertical-align: top;\n",
       "    }\n",
       "\n",
       "    .dataframe thead th {\n",
       "        text-align: right;\n",
       "    }\n",
       "</style>\n",
       "<table border=\"1\" class=\"dataframe\">\n",
       "  <thead>\n",
       "    <tr style=\"text-align: right;\">\n",
       "      <th></th>\n",
       "      <th>Timestamp</th>\n",
       "      <th>InventoryType</th>\n",
       "      <th>Ad - Length</th>\n",
       "      <th>Ad- Width</th>\n",
       "      <th>Ad Size</th>\n",
       "      <th>Ad Type</th>\n",
       "      <th>Platform</th>\n",
       "      <th>Device Type</th>\n",
       "      <th>Format</th>\n",
       "      <th>Available_Impressions</th>\n",
       "      <th>Matched_Queries</th>\n",
       "      <th>Impressions</th>\n",
       "      <th>Clicks</th>\n",
       "      <th>Spend</th>\n",
       "      <th>Fee</th>\n",
       "      <th>Revenue</th>\n",
       "      <th>CTR</th>\n",
       "      <th>CPM</th>\n",
       "      <th>CPC</th>\n",
       "    </tr>\n",
       "  </thead>\n",
       "  <tbody>\n",
       "    <tr>\n",
       "      <th>0</th>\n",
       "      <td>2020-9-2-17</td>\n",
       "      <td>Format1</td>\n",
       "      <td>300</td>\n",
       "      <td>250</td>\n",
       "      <td>75000</td>\n",
       "      <td>Inter222</td>\n",
       "      <td>Video</td>\n",
       "      <td>Desktop</td>\n",
       "      <td>Display</td>\n",
       "      <td>1806</td>\n",
       "      <td>325</td>\n",
       "      <td>323</td>\n",
       "      <td>1</td>\n",
       "      <td>0.0</td>\n",
       "      <td>0.35</td>\n",
       "      <td>0.0</td>\n",
       "      <td>0.0031</td>\n",
       "      <td>0.0</td>\n",
       "      <td>0.0</td>\n",
       "    </tr>\n",
       "    <tr>\n",
       "      <th>1</th>\n",
       "      <td>2020-9-2-18</td>\n",
       "      <td>Format1</td>\n",
       "      <td>300</td>\n",
       "      <td>250</td>\n",
       "      <td>75000</td>\n",
       "      <td>Inter223</td>\n",
       "      <td>Web</td>\n",
       "      <td>Mobile</td>\n",
       "      <td>Display</td>\n",
       "      <td>1979</td>\n",
       "      <td>384</td>\n",
       "      <td>380</td>\n",
       "      <td>0</td>\n",
       "      <td>0.0</td>\n",
       "      <td>0.35</td>\n",
       "      <td>0.0</td>\n",
       "      <td>0.0000</td>\n",
       "      <td>0.0</td>\n",
       "      <td>NaN</td>\n",
       "    </tr>\n",
       "    <tr>\n",
       "      <th>2</th>\n",
       "      <td>2020-9-3-16</td>\n",
       "      <td>Format6</td>\n",
       "      <td>336</td>\n",
       "      <td>250</td>\n",
       "      <td>84000</td>\n",
       "      <td>Inter217</td>\n",
       "      <td>Web</td>\n",
       "      <td>Desktop</td>\n",
       "      <td>Video</td>\n",
       "      <td>1566</td>\n",
       "      <td>298</td>\n",
       "      <td>297</td>\n",
       "      <td>0</td>\n",
       "      <td>0.0</td>\n",
       "      <td>0.35</td>\n",
       "      <td>0.0</td>\n",
       "      <td>0.0000</td>\n",
       "      <td>0.0</td>\n",
       "      <td>NaN</td>\n",
       "    </tr>\n",
       "    <tr>\n",
       "      <th>3</th>\n",
       "      <td>2020-9-3-2</td>\n",
       "      <td>Format1</td>\n",
       "      <td>300</td>\n",
       "      <td>250</td>\n",
       "      <td>75000</td>\n",
       "      <td>Inter224</td>\n",
       "      <td>Web</td>\n",
       "      <td>Desktop</td>\n",
       "      <td>Display</td>\n",
       "      <td>643</td>\n",
       "      <td>103</td>\n",
       "      <td>102</td>\n",
       "      <td>0</td>\n",
       "      <td>0.0</td>\n",
       "      <td>0.35</td>\n",
       "      <td>0.0</td>\n",
       "      <td>0.0000</td>\n",
       "      <td>0.0</td>\n",
       "      <td>NaN</td>\n",
       "    </tr>\n",
       "    <tr>\n",
       "      <th>4</th>\n",
       "      <td>2020-9-3-13</td>\n",
       "      <td>Format1</td>\n",
       "      <td>300</td>\n",
       "      <td>250</td>\n",
       "      <td>75000</td>\n",
       "      <td>Inter225</td>\n",
       "      <td>Video</td>\n",
       "      <td>Mobile</td>\n",
       "      <td>Display</td>\n",
       "      <td>1550</td>\n",
       "      <td>347</td>\n",
       "      <td>345</td>\n",
       "      <td>0</td>\n",
       "      <td>0.0</td>\n",
       "      <td>0.35</td>\n",
       "      <td>0.0</td>\n",
       "      <td>0.0000</td>\n",
       "      <td>0.0</td>\n",
       "      <td>NaN</td>\n",
       "    </tr>\n",
       "  </tbody>\n",
       "</table>\n",
       "</div>"
      ],
      "text/plain": [
       "     Timestamp InventoryType  Ad - Length  Ad- Width  Ad Size   Ad Type  \\\n",
       "0  2020-9-2-17       Format1          300        250    75000  Inter222   \n",
       "1  2020-9-2-18       Format1          300        250    75000  Inter223   \n",
       "2  2020-9-3-16       Format6          336        250    84000  Inter217   \n",
       "3   2020-9-3-2       Format1          300        250    75000  Inter224   \n",
       "4  2020-9-3-13       Format1          300        250    75000  Inter225   \n",
       "\n",
       "  Platform Device Type   Format  Available_Impressions  Matched_Queries  \\\n",
       "0    Video     Desktop  Display                   1806              325   \n",
       "1      Web      Mobile  Display                   1979              384   \n",
       "2      Web     Desktop    Video                   1566              298   \n",
       "3      Web     Desktop  Display                    643              103   \n",
       "4    Video      Mobile  Display                   1550              347   \n",
       "\n",
       "   Impressions  Clicks  Spend   Fee  Revenue     CTR  CPM  CPC  \n",
       "0          323       1    0.0  0.35      0.0  0.0031  0.0  0.0  \n",
       "1          380       0    0.0  0.35      0.0  0.0000  0.0  NaN  \n",
       "2          297       0    0.0  0.35      0.0  0.0000  0.0  NaN  \n",
       "3          102       0    0.0  0.35      0.0  0.0000  0.0  NaN  \n",
       "4          345       0    0.0  0.35      0.0  0.0000  0.0  NaN  "
      ]
     },
     "execution_count": 3,
     "metadata": {},
     "output_type": "execute_result"
    }
   ],
   "source": [
    "#viewing top 5 entries of the dataset\n",
    "df.head()"
   ]
  },
  {
   "cell_type": "code",
   "execution_count": 4,
   "id": "be96fc1f",
   "metadata": {},
   "outputs": [
    {
     "data": {
      "text/html": [
       "<div>\n",
       "<style scoped>\n",
       "    .dataframe tbody tr th:only-of-type {\n",
       "        vertical-align: middle;\n",
       "    }\n",
       "\n",
       "    .dataframe tbody tr th {\n",
       "        vertical-align: top;\n",
       "    }\n",
       "\n",
       "    .dataframe thead th {\n",
       "        text-align: right;\n",
       "    }\n",
       "</style>\n",
       "<table border=\"1\" class=\"dataframe\">\n",
       "  <thead>\n",
       "    <tr style=\"text-align: right;\">\n",
       "      <th></th>\n",
       "      <th>Timestamp</th>\n",
       "      <th>InventoryType</th>\n",
       "      <th>Ad - Length</th>\n",
       "      <th>Ad- Width</th>\n",
       "      <th>Ad Size</th>\n",
       "      <th>Ad Type</th>\n",
       "      <th>Platform</th>\n",
       "      <th>Device Type</th>\n",
       "      <th>Format</th>\n",
       "      <th>Available_Impressions</th>\n",
       "      <th>Matched_Queries</th>\n",
       "      <th>Impressions</th>\n",
       "      <th>Clicks</th>\n",
       "      <th>Spend</th>\n",
       "      <th>Fee</th>\n",
       "      <th>Revenue</th>\n",
       "      <th>CTR</th>\n",
       "      <th>CPM</th>\n",
       "      <th>CPC</th>\n",
       "    </tr>\n",
       "  </thead>\n",
       "  <tbody>\n",
       "    <tr>\n",
       "      <th>25852</th>\n",
       "      <td>2020-10-1-5</td>\n",
       "      <td>Format5</td>\n",
       "      <td>720</td>\n",
       "      <td>300</td>\n",
       "      <td>216000</td>\n",
       "      <td>Inter222</td>\n",
       "      <td>Video</td>\n",
       "      <td>Desktop</td>\n",
       "      <td>Video</td>\n",
       "      <td>1</td>\n",
       "      <td>1</td>\n",
       "      <td>1</td>\n",
       "      <td>0</td>\n",
       "      <td>0.01</td>\n",
       "      <td>0.35</td>\n",
       "      <td>0.0065</td>\n",
       "      <td>NaN</td>\n",
       "      <td>NaN</td>\n",
       "      <td>NaN</td>\n",
       "    </tr>\n",
       "    <tr>\n",
       "      <th>25853</th>\n",
       "      <td>2020-11-18-2</td>\n",
       "      <td>Format4</td>\n",
       "      <td>120</td>\n",
       "      <td>600</td>\n",
       "      <td>72000</td>\n",
       "      <td>inter230</td>\n",
       "      <td>Video</td>\n",
       "      <td>Mobile</td>\n",
       "      <td>Video</td>\n",
       "      <td>7</td>\n",
       "      <td>1</td>\n",
       "      <td>1</td>\n",
       "      <td>1</td>\n",
       "      <td>0.07</td>\n",
       "      <td>0.35</td>\n",
       "      <td>0.0455</td>\n",
       "      <td>NaN</td>\n",
       "      <td>NaN</td>\n",
       "      <td>NaN</td>\n",
       "    </tr>\n",
       "    <tr>\n",
       "      <th>25854</th>\n",
       "      <td>2020-9-14-0</td>\n",
       "      <td>Format5</td>\n",
       "      <td>720</td>\n",
       "      <td>300</td>\n",
       "      <td>216000</td>\n",
       "      <td>Inter221</td>\n",
       "      <td>App</td>\n",
       "      <td>Mobile</td>\n",
       "      <td>Video</td>\n",
       "      <td>2</td>\n",
       "      <td>2</td>\n",
       "      <td>2</td>\n",
       "      <td>1</td>\n",
       "      <td>0.09</td>\n",
       "      <td>0.35</td>\n",
       "      <td>0.0585</td>\n",
       "      <td>NaN</td>\n",
       "      <td>NaN</td>\n",
       "      <td>NaN</td>\n",
       "    </tr>\n",
       "    <tr>\n",
       "      <th>25855</th>\n",
       "      <td>2020-9-30-4</td>\n",
       "      <td>Format7</td>\n",
       "      <td>300</td>\n",
       "      <td>600</td>\n",
       "      <td>180000</td>\n",
       "      <td>Inter228</td>\n",
       "      <td>Video</td>\n",
       "      <td>Mobile</td>\n",
       "      <td>Display</td>\n",
       "      <td>1</td>\n",
       "      <td>1</td>\n",
       "      <td>1</td>\n",
       "      <td>0</td>\n",
       "      <td>0.01</td>\n",
       "      <td>0.35</td>\n",
       "      <td>0.0065</td>\n",
       "      <td>NaN</td>\n",
       "      <td>NaN</td>\n",
       "      <td>NaN</td>\n",
       "    </tr>\n",
       "    <tr>\n",
       "      <th>25856</th>\n",
       "      <td>2020-10-17-3</td>\n",
       "      <td>Format5</td>\n",
       "      <td>720</td>\n",
       "      <td>300</td>\n",
       "      <td>216000</td>\n",
       "      <td>Inter225</td>\n",
       "      <td>Video</td>\n",
       "      <td>Mobile</td>\n",
       "      <td>Display</td>\n",
       "      <td>1</td>\n",
       "      <td>1</td>\n",
       "      <td>1</td>\n",
       "      <td>0</td>\n",
       "      <td>0.01</td>\n",
       "      <td>0.35</td>\n",
       "      <td>0.0065</td>\n",
       "      <td>NaN</td>\n",
       "      <td>NaN</td>\n",
       "      <td>NaN</td>\n",
       "    </tr>\n",
       "  </tbody>\n",
       "</table>\n",
       "</div>"
      ],
      "text/plain": [
       "          Timestamp InventoryType  Ad - Length  Ad- Width  Ad Size   Ad Type  \\\n",
       "25852   2020-10-1-5       Format5          720        300   216000  Inter222   \n",
       "25853  2020-11-18-2       Format4          120        600    72000  inter230   \n",
       "25854   2020-9-14-0       Format5          720        300   216000  Inter221   \n",
       "25855   2020-9-30-4       Format7          300        600   180000  Inter228   \n",
       "25856  2020-10-17-3       Format5          720        300   216000  Inter225   \n",
       "\n",
       "      Platform Device Type   Format  Available_Impressions  Matched_Queries  \\\n",
       "25852    Video     Desktop    Video                      1                1   \n",
       "25853    Video      Mobile    Video                      7                1   \n",
       "25854      App      Mobile    Video                      2                2   \n",
       "25855    Video      Mobile  Display                      1                1   \n",
       "25856    Video      Mobile  Display                      1                1   \n",
       "\n",
       "       Impressions  Clicks  Spend   Fee  Revenue  CTR  CPM  CPC  \n",
       "25852            1       0   0.01  0.35   0.0065  NaN  NaN  NaN  \n",
       "25853            1       1   0.07  0.35   0.0455  NaN  NaN  NaN  \n",
       "25854            2       1   0.09  0.35   0.0585  NaN  NaN  NaN  \n",
       "25855            1       0   0.01  0.35   0.0065  NaN  NaN  NaN  \n",
       "25856            1       0   0.01  0.35   0.0065  NaN  NaN  NaN  "
      ]
     },
     "execution_count": 4,
     "metadata": {},
     "output_type": "execute_result"
    }
   ],
   "source": [
    "#viewing last 5 entries of the dataset\n",
    "df.tail()"
   ]
  },
  {
   "cell_type": "markdown",
   "id": "db14d90c",
   "metadata": {},
   "source": [
    "# 3. Data Preparation & Preprocessing"
   ]
  },
  {
   "cell_type": "code",
   "execution_count": 5,
   "id": "8d50a913",
   "metadata": {},
   "outputs": [
    {
     "data": {
      "text/plain": [
       "(25857, 19)"
      ]
     },
     "execution_count": 5,
     "metadata": {},
     "output_type": "execute_result"
    }
   ],
   "source": [
    "#rows and columns of the data set\n",
    "df.shape"
   ]
  },
  {
   "cell_type": "code",
   "execution_count": 6,
   "id": "d956955e",
   "metadata": {},
   "outputs": [
    {
     "name": "stdout",
     "output_type": "stream",
     "text": [
      "<class 'pandas.core.frame.DataFrame'>\n",
      "RangeIndex: 25857 entries, 0 to 25856\n",
      "Data columns (total 19 columns):\n",
      " #   Column                 Non-Null Count  Dtype  \n",
      "---  ------                 --------------  -----  \n",
      " 0   Timestamp              25857 non-null  object \n",
      " 1   InventoryType          25857 non-null  object \n",
      " 2   Ad - Length            25857 non-null  int64  \n",
      " 3   Ad- Width              25857 non-null  int64  \n",
      " 4   Ad Size                25857 non-null  int64  \n",
      " 5   Ad Type                25857 non-null  object \n",
      " 6   Platform               25857 non-null  object \n",
      " 7   Device Type            25857 non-null  object \n",
      " 8   Format                 25857 non-null  object \n",
      " 9   Available_Impressions  25857 non-null  int64  \n",
      " 10  Matched_Queries        25857 non-null  int64  \n",
      " 11  Impressions            25857 non-null  int64  \n",
      " 12  Clicks                 25857 non-null  int64  \n",
      " 13  Spend                  25857 non-null  float64\n",
      " 14  Fee                    25857 non-null  float64\n",
      " 15  Revenue                25857 non-null  float64\n",
      " 16  CTR                    19392 non-null  float64\n",
      " 17  CPM                    19392 non-null  float64\n",
      " 18  CPC                    18330 non-null  float64\n",
      "dtypes: float64(6), int64(7), object(6)\n",
      "memory usage: 3.7+ MB\n"
     ]
    }
   ],
   "source": [
    "#information Dtypes, null values of the dataset\n",
    "df.info()"
   ]
  },
  {
   "cell_type": "code",
   "execution_count": 7,
   "id": "dd514a4b",
   "metadata": {},
   "outputs": [
    {
     "data": {
      "text/html": [
       "<div>\n",
       "<style scoped>\n",
       "    .dataframe tbody tr th:only-of-type {\n",
       "        vertical-align: middle;\n",
       "    }\n",
       "\n",
       "    .dataframe tbody tr th {\n",
       "        vertical-align: top;\n",
       "    }\n",
       "\n",
       "    .dataframe thead th {\n",
       "        text-align: right;\n",
       "    }\n",
       "</style>\n",
       "<table border=\"1\" class=\"dataframe\">\n",
       "  <thead>\n",
       "    <tr style=\"text-align: right;\">\n",
       "      <th></th>\n",
       "      <th>Ad - Length</th>\n",
       "      <th>Ad- Width</th>\n",
       "      <th>Ad Size</th>\n",
       "      <th>Available_Impressions</th>\n",
       "      <th>Matched_Queries</th>\n",
       "      <th>Impressions</th>\n",
       "      <th>Clicks</th>\n",
       "      <th>Spend</th>\n",
       "      <th>Fee</th>\n",
       "      <th>Revenue</th>\n",
       "      <th>CTR</th>\n",
       "      <th>CPM</th>\n",
       "      <th>CPC</th>\n",
       "    </tr>\n",
       "  </thead>\n",
       "  <tbody>\n",
       "    <tr>\n",
       "      <th>count</th>\n",
       "      <td>25857.000000</td>\n",
       "      <td>25857.000000</td>\n",
       "      <td>25857.000000</td>\n",
       "      <td>2.585700e+04</td>\n",
       "      <td>2.585700e+04</td>\n",
       "      <td>2.585700e+04</td>\n",
       "      <td>25857.000000</td>\n",
       "      <td>25857.000000</td>\n",
       "      <td>25857.000000</td>\n",
       "      <td>25857.000000</td>\n",
       "      <td>19392.000000</td>\n",
       "      <td>19392.000000</td>\n",
       "      <td>18330.000000</td>\n",
       "    </tr>\n",
       "    <tr>\n",
       "      <th>mean</th>\n",
       "      <td>390.431218</td>\n",
       "      <td>332.182774</td>\n",
       "      <td>99683.276482</td>\n",
       "      <td>2.169621e+06</td>\n",
       "      <td>1.155322e+06</td>\n",
       "      <td>1.107525e+06</td>\n",
       "      <td>9525.881386</td>\n",
       "      <td>2414.473115</td>\n",
       "      <td>0.336729</td>\n",
       "      <td>1716.548955</td>\n",
       "      <td>0.069627</td>\n",
       "      <td>7.252900</td>\n",
       "      <td>0.351061</td>\n",
       "    </tr>\n",
       "    <tr>\n",
       "      <th>std</th>\n",
       "      <td>230.696051</td>\n",
       "      <td>194.260924</td>\n",
       "      <td>62640.685612</td>\n",
       "      <td>4.542680e+06</td>\n",
       "      <td>2.407244e+06</td>\n",
       "      <td>2.326648e+06</td>\n",
       "      <td>16721.686071</td>\n",
       "      <td>3932.835240</td>\n",
       "      <td>0.030540</td>\n",
       "      <td>2993.025498</td>\n",
       "      <td>0.074970</td>\n",
       "      <td>6.538314</td>\n",
       "      <td>0.343334</td>\n",
       "    </tr>\n",
       "    <tr>\n",
       "      <th>min</th>\n",
       "      <td>120.000000</td>\n",
       "      <td>70.000000</td>\n",
       "      <td>33600.000000</td>\n",
       "      <td>0.000000e+00</td>\n",
       "      <td>0.000000e+00</td>\n",
       "      <td>0.000000e+00</td>\n",
       "      <td>0.000000</td>\n",
       "      <td>0.000000</td>\n",
       "      <td>0.210000</td>\n",
       "      <td>0.000000</td>\n",
       "      <td>0.000000</td>\n",
       "      <td>0.000000</td>\n",
       "      <td>0.000000</td>\n",
       "    </tr>\n",
       "    <tr>\n",
       "      <th>25%</th>\n",
       "      <td>120.000000</td>\n",
       "      <td>250.000000</td>\n",
       "      <td>72000.000000</td>\n",
       "      <td>9.133000e+03</td>\n",
       "      <td>5.451000e+03</td>\n",
       "      <td>2.558000e+03</td>\n",
       "      <td>305.000000</td>\n",
       "      <td>36.030000</td>\n",
       "      <td>0.350000</td>\n",
       "      <td>23.420000</td>\n",
       "      <td>0.002400</td>\n",
       "      <td>1.630000</td>\n",
       "      <td>0.090000</td>\n",
       "    </tr>\n",
       "    <tr>\n",
       "      <th>50%</th>\n",
       "      <td>300.000000</td>\n",
       "      <td>300.000000</td>\n",
       "      <td>75000.000000</td>\n",
       "      <td>3.309680e+05</td>\n",
       "      <td>1.894490e+05</td>\n",
       "      <td>1.621620e+05</td>\n",
       "      <td>3457.000000</td>\n",
       "      <td>1173.660000</td>\n",
       "      <td>0.350000</td>\n",
       "      <td>762.880000</td>\n",
       "      <td>0.007700</td>\n",
       "      <td>3.035000</td>\n",
       "      <td>0.160000</td>\n",
       "    </tr>\n",
       "    <tr>\n",
       "      <th>75%</th>\n",
       "      <td>720.000000</td>\n",
       "      <td>600.000000</td>\n",
       "      <td>84000.000000</td>\n",
       "      <td>2.208484e+06</td>\n",
       "      <td>1.008171e+06</td>\n",
       "      <td>9.496930e+05</td>\n",
       "      <td>10681.000000</td>\n",
       "      <td>2692.280000</td>\n",
       "      <td>0.350000</td>\n",
       "      <td>1749.982000</td>\n",
       "      <td>0.128300</td>\n",
       "      <td>12.220000</td>\n",
       "      <td>0.570000</td>\n",
       "    </tr>\n",
       "    <tr>\n",
       "      <th>max</th>\n",
       "      <td>728.000000</td>\n",
       "      <td>600.000000</td>\n",
       "      <td>216000.000000</td>\n",
       "      <td>2.759286e+07</td>\n",
       "      <td>1.470202e+07</td>\n",
       "      <td>1.419477e+07</td>\n",
       "      <td>143049.000000</td>\n",
       "      <td>26931.870000</td>\n",
       "      <td>0.350000</td>\n",
       "      <td>21276.180000</td>\n",
       "      <td>1.000000</td>\n",
       "      <td>81.560000</td>\n",
       "      <td>7.260000</td>\n",
       "    </tr>\n",
       "  </tbody>\n",
       "</table>\n",
       "</div>"
      ],
      "text/plain": [
       "        Ad - Length     Ad- Width        Ad Size  Available_Impressions  \\\n",
       "count  25857.000000  25857.000000   25857.000000           2.585700e+04   \n",
       "mean     390.431218    332.182774   99683.276482           2.169621e+06   \n",
       "std      230.696051    194.260924   62640.685612           4.542680e+06   \n",
       "min      120.000000     70.000000   33600.000000           0.000000e+00   \n",
       "25%      120.000000    250.000000   72000.000000           9.133000e+03   \n",
       "50%      300.000000    300.000000   75000.000000           3.309680e+05   \n",
       "75%      720.000000    600.000000   84000.000000           2.208484e+06   \n",
       "max      728.000000    600.000000  216000.000000           2.759286e+07   \n",
       "\n",
       "       Matched_Queries   Impressions         Clicks         Spend  \\\n",
       "count     2.585700e+04  2.585700e+04   25857.000000  25857.000000   \n",
       "mean      1.155322e+06  1.107525e+06    9525.881386   2414.473115   \n",
       "std       2.407244e+06  2.326648e+06   16721.686071   3932.835240   \n",
       "min       0.000000e+00  0.000000e+00       0.000000      0.000000   \n",
       "25%       5.451000e+03  2.558000e+03     305.000000     36.030000   \n",
       "50%       1.894490e+05  1.621620e+05    3457.000000   1173.660000   \n",
       "75%       1.008171e+06  9.496930e+05   10681.000000   2692.280000   \n",
       "max       1.470202e+07  1.419477e+07  143049.000000  26931.870000   \n",
       "\n",
       "                Fee       Revenue           CTR           CPM           CPC  \n",
       "count  25857.000000  25857.000000  19392.000000  19392.000000  18330.000000  \n",
       "mean       0.336729   1716.548955      0.069627      7.252900      0.351061  \n",
       "std        0.030540   2993.025498      0.074970      6.538314      0.343334  \n",
       "min        0.210000      0.000000      0.000000      0.000000      0.000000  \n",
       "25%        0.350000     23.420000      0.002400      1.630000      0.090000  \n",
       "50%        0.350000    762.880000      0.007700      3.035000      0.160000  \n",
       "75%        0.350000   1749.982000      0.128300     12.220000      0.570000  \n",
       "max        0.350000  21276.180000      1.000000     81.560000      7.260000  "
      ]
     },
     "execution_count": 7,
     "metadata": {},
     "output_type": "execute_result"
    }
   ],
   "source": [
    "#descriptive summary of the dataset\n",
    "df.describe()"
   ]
  },
  {
   "cell_type": "markdown",
   "id": "7339ed3d",
   "metadata": {},
   "source": [
    "## Missing Values"
   ]
  },
  {
   "cell_type": "code",
   "execution_count": 8,
   "id": "f10c8b47",
   "metadata": {},
   "outputs": [
    {
     "data": {
      "text/plain": [
       "Timestamp                   0\n",
       "InventoryType               0\n",
       "Ad - Length                 0\n",
       "Ad- Width                   0\n",
       "Ad Size                     0\n",
       "Ad Type                     0\n",
       "Platform                    0\n",
       "Device Type                 0\n",
       "Format                      0\n",
       "Available_Impressions       0\n",
       "Matched_Queries             0\n",
       "Impressions                 0\n",
       "Clicks                      0\n",
       "Spend                       0\n",
       "Fee                         0\n",
       "Revenue                     0\n",
       "CTR                      6465\n",
       "CPM                      6465\n",
       "CPC                      7527\n",
       "dtype: int64"
      ]
     },
     "execution_count": 8,
     "metadata": {},
     "output_type": "execute_result"
    }
   ],
   "source": [
    "#checking for null values in the dataset\n",
    "df.isnull().sum()"
   ]
  },
  {
   "cell_type": "code",
   "execution_count": 9,
   "id": "ce307ff8",
   "metadata": {},
   "outputs": [
    {
     "data": {
      "text/plain": [
       "0"
      ]
     },
     "execution_count": 9,
     "metadata": {},
     "output_type": "execute_result"
    }
   ],
   "source": [
    "#checking for duplicated values in the dataset\n",
    "df.duplicated().sum()"
   ]
  },
  {
   "cell_type": "markdown",
   "id": "199fe016",
   "metadata": {},
   "source": [
    "### Treat missing values in CPC, CTR and CPM using the formula given."
   ]
  },
  {
   "cell_type": "code",
   "execution_count": 10,
   "id": "a873b8ad",
   "metadata": {},
   "outputs": [],
   "source": [
    "#function to calculate CPM by the formula given & returning CPM\n",
    "def calculate_CPM(x):\n",
    "    spend=df['Spend']\n",
    "    impression = df['Impressions']\n",
    "    CPM=(spend/impression)*1000\n",
    "    return CPM"
   ]
  },
  {
   "cell_type": "code",
   "execution_count": 11,
   "id": "5a150228",
   "metadata": {},
   "outputs": [],
   "source": [
    "#imputing the function\n",
    "df.CPM = df[['CPM']].apply(lambda x: calculate_CPM(x))"
   ]
  },
  {
   "cell_type": "code",
   "execution_count": 12,
   "id": "6d339ca9",
   "metadata": {},
   "outputs": [],
   "source": [
    "#function to calculate CPC by the formula given & returning CPC\n",
    "def calculate_CPC(x):\n",
    "    spend=df['Spend']\n",
    "    click = df['Clicks']\n",
    "    CPC=(spend/click)\n",
    "    return CPC"
   ]
  },
  {
   "cell_type": "code",
   "execution_count": 13,
   "id": "27a33b50",
   "metadata": {},
   "outputs": [],
   "source": [
    "df.CPC= df[['CPC']].apply(lambda x: calculate_CPC(x))"
   ]
  },
  {
   "cell_type": "code",
   "execution_count": 14,
   "id": "631e602a",
   "metadata": {},
   "outputs": [],
   "source": [
    "#function to calculate CTR by the formula given & returning CTR\n",
    "def calculate_CTR(x):\n",
    "    click = df['Clicks']\n",
    "    impression = df['Impressions']\n",
    "    CTR=(click/impression)*100\n",
    "    return CTR"
   ]
  },
  {
   "cell_type": "code",
   "execution_count": 15,
   "id": "942d6ed9",
   "metadata": {},
   "outputs": [],
   "source": [
    "df.CTR = df[['CTR']].apply(lambda z: calculate_CTR(z))"
   ]
  },
  {
   "cell_type": "code",
   "execution_count": 18,
   "id": "435150da",
   "metadata": {},
   "outputs": [],
   "source": [
    "#Taking the neccessary datatypes to impute & replacing int values in CPC to NaN\n",
    "df_num= df.select_dtypes(include=\"number\")\n",
    "df_num.replace([np.inf, -np.inf], np.nan, inplace=True)"
   ]
  },
  {
   "cell_type": "code",
   "execution_count": 19,
   "id": "150ce395",
   "metadata": {},
   "outputs": [],
   "source": [
    "#Chanding the NaN values to median\n",
    "df_num.fillna(df_num.median(), inplace=True)"
   ]
  },
  {
   "cell_type": "code",
   "execution_count": 21,
   "id": "07cd7e0d",
   "metadata": {},
   "outputs": [
    {
     "data": {
      "text/plain": [
       "Index(['Ad - Length', 'Ad- Width', 'Ad Size', 'Available_Impressions',\n",
       "       'Matched_Queries', 'Impressions', 'Clicks', 'Spend', 'Fee', 'Revenue',\n",
       "       'CTR', 'CPM', 'CPC'],\n",
       "      dtype='object')"
      ]
     },
     "execution_count": 21,
     "metadata": {},
     "output_type": "execute_result"
    }
   ],
   "source": [
    "df_num.columns"
   ]
  },
  {
   "cell_type": "code",
   "execution_count": 24,
   "id": "d371b7fa",
   "metadata": {},
   "outputs": [
    {
     "data": {
      "text/plain": [
       "Ad - Length              0\n",
       "Ad- Width                0\n",
       "Ad Size                  0\n",
       "Available_Impressions    0\n",
       "Matched_Queries          0\n",
       "Impressions              0\n",
       "Clicks                   0\n",
       "Spend                    0\n",
       "Fee                      0\n",
       "Revenue                  0\n",
       "CTR                      0\n",
       "CPM                      0\n",
       "CPC                      0\n",
       "dtype: int64"
      ]
     },
     "execution_count": 24,
     "metadata": {},
     "output_type": "execute_result"
    }
   ],
   "source": [
    "#rechecking for missing values\n",
    "df_num.isnull().sum()"
   ]
  },
  {
   "cell_type": "markdown",
   "id": "644ad940",
   "metadata": {},
   "source": [
    "### Outlier Treatment"
   ]
  },
  {
   "cell_type": "code",
   "execution_count": 28,
   "id": "9c4e17d9",
   "metadata": {},
   "outputs": [
    {
     "data": {
      "image/png": "[encoded data removed]",
      "text/plain": [
       "<Figure size 800x1200 with 13 Axes>"
      ]
     },
     "metadata": {},
     "output_type": "display_data"
    }
   ],
   "source": [
    "#Check for outliers with each of the columns\n",
    "plt.figure(figsize = (8,12))\n",
    "f_list = df_num.columns\n",
    "for i in range(len(f_list)):\n",
    "    plt.subplot(4, 4, i + 1)\n",
    "    sns.boxplot(y = df_num[f_list[i]], data = df_num)\n",
    "    plt.title('Boxplot: {}'.format(f_list[i]))\n",
    "    plt.tight_layout()"
   ]
  },
  {
   "cell_type": "code",
   "execution_count": 29,
   "id": "da41c484",
   "metadata": {},
   "outputs": [],
   "source": [
    "#Defining upper and lower limit\n",
    "def remove_outlier(col):\n",
    "    Q1,Q3=col.quantile([0.25,0.75])\n",
    "    IQR=Q3-Q1\n",
    "    lower_range= Q1-(1.5 * IQR)\n",
    "    upper_range= Q3+(1.5 * IQR)\n",
    "    return lower_range, upper_range"
   ]
  },
  {
   "cell_type": "code",
   "execution_count": 30,
   "id": "7f18cc26",
   "metadata": {},
   "outputs": [],
   "source": [
    "for i in f_list:\n",
    "    LL, UL = remove_outlier(df_num[i])\n",
    "    df_num[i] = np.where(df_num[i] > UL, UL, df_num[i])\n",
    "    df_num[i] = np.where(df_num[i] < LL, LL, df_num[i])"
   ]
  },
  {
   "cell_type": "code",
   "execution_count": 31,
   "id": "9f1cb282",
   "metadata": {},
   "outputs": [
    {
     "data": {
      "image/png": "[encoded data removed]",
      "text/plain": [
       "<Figure size 800x1200 with 13 Axes>"
      ]
     },
     "metadata": {},
     "output_type": "display_data"
    }
   ],
   "source": [
    "#checking outlier aftreat treatment\n",
    "plt.figure(figsize = (8,12))\n",
    "f_list = df_num.columns\n",
    "for i in range(len(f_list)):\n",
    "    plt.subplot(4, 4, i + 1)\n",
    "    sns.boxplot(y = df_num[f_list[i]], data = df_num)\n",
    "    plt.title('Boxplot: {}'.format(f_list[i]))\n",
    "    plt.tight_layout()"
   ]
  },
  {
   "cell_type": "markdown",
   "id": "058f7132",
   "metadata": {},
   "source": [
    "## Standardization using Z-Score"
   ]
  },
  {
   "cell_type": "code",
   "execution_count": 34,
   "id": "b2ea9e14",
   "metadata": {},
   "outputs": [
    {
     "data": {
      "text/plain": [
       "array([[-0.3920005 , -0.42306173, -0.16180569, ..., -0.86018498,\n",
       "        -1.0690997 , -1.0353923 ],\n",
       "       [-0.3920005 , -0.42306173, -0.16180569, ..., -0.89811223,\n",
       "        -1.0690997 , -0.56441251],\n",
       "       [-0.23594799, -0.42306173,  0.42441494, ..., -0.89811223,\n",
       "        -1.0690997 , -0.56441251],\n",
       "       ...,\n",
       "       [ 1.42861203, -0.16567098,  1.59685618, ...,  3.05856917,\n",
       "         3.09081481, -0.73120152],\n",
       "       [-0.3920005 ,  1.37867358,  1.59685618, ..., -0.89811223,\n",
       "         0.37878661, -0.56441251],\n",
       "       [ 1.42861203, -0.16567098,  1.59685618, ..., -0.89811223,\n",
       "         0.37878661, -0.56441251]])"
      ]
     },
     "execution_count": 34,
     "metadata": {},
     "output_type": "execute_result"
    }
   ],
   "source": [
    "sc = StandardScaler()\n",
    "scaled_df = sc.fit_transform(df_num)\n",
    "scaled_df"
   ]
  },
  {
   "cell_type": "markdown",
   "id": "156c8099",
   "metadata": {},
   "source": [
    "# 4. Model Building"
   ]
  },
  {
   "cell_type": "markdown",
   "id": "936de9cd",
   "metadata": {},
   "source": [
    "### Perform Hierarchical Clustering by constructing a Dendrogram using WARD and Euclidean distance."
   ]
  },
  {
   "cell_type": "code",
   "execution_count": 36,
   "id": "17280fc4",
   "metadata": {},
   "outputs": [
    {
     "data": {
      "image/png": "[encoded data removed]",
      "text/plain": [
       "<Figure size 800x400 with 1 Axes>"
      ]
     },
     "metadata": {},
     "output_type": "display_data"
    }
   ],
   "source": [
    "wardlink = linkage(df_num, method = 'ward')\n",
    "plt.rcParams[\"figure.figsize\"] = [8, 4]\n",
    "dend = dendrogram(wardlink,truncate_mode='lastp',p = 25)"
   ]
  },
  {
   "cell_type": "markdown",
   "id": "ce6adf26",
   "metadata": {},
   "source": [
    "### Make Elbow plot (up to n=10) and identify optimum number of clusters for k-means algorithm."
   ]
  },
  {
   "cell_type": "code",
   "execution_count": 37,
   "id": "f486857f",
   "metadata": {},
   "outputs": [
    {
     "data": {
      "text/plain": [
       "310283.99999999953"
      ]
     },
     "execution_count": 37,
     "metadata": {},
     "output_type": "execute_result"
    }
   ],
   "source": [
    "k_means = KMeans(n_clusters = 1)\n",
    "k_means.fit(scaled_df)\n",
    "k_means.inertia_"
   ]
  },
  {
   "cell_type": "code",
   "execution_count": 38,
   "id": "6d858b5d",
   "metadata": {},
   "outputs": [
    {
     "data": {
      "text/plain": [
       "188902.86525119044"
      ]
     },
     "execution_count": 38,
     "metadata": {},
     "output_type": "execute_result"
    }
   ],
   "source": [
    "k_means = KMeans(n_clusters = 2)\n",
    "k_means.fit(scaled_df)\n",
    "k_means.inertia_"
   ]
  },
  {
   "cell_type": "code",
   "execution_count": 39,
   "id": "e882ee98",
   "metadata": {},
   "outputs": [
    {
     "data": {
      "text/plain": [
       "139952.718922808"
      ]
     },
     "execution_count": 39,
     "metadata": {},
     "output_type": "execute_result"
    }
   ],
   "source": [
    "k_means = KMeans(n_clusters = 3)\n",
    "k_means.fit(scaled_df)\n",
    "k_means.inertia_"
   ]
  },
  {
   "cell_type": "code",
   "execution_count": 40,
   "id": "360794ce",
   "metadata": {},
   "outputs": [
    {
     "data": {
      "text/plain": [
       "103443.46798792669"
      ]
     },
     "execution_count": 40,
     "metadata": {},
     "output_type": "execute_result"
    }
   ],
   "source": [
    "k_means = KMeans(n_clusters = 4)\n",
    "k_means.fit(scaled_df)\n",
    "k_means.inertia_"
   ]
  },
  {
   "cell_type": "code",
   "execution_count": 41,
   "id": "f90243cc",
   "metadata": {},
   "outputs": [
    {
     "data": {
      "text/plain": [
       "74695.77117712668"
      ]
     },
     "execution_count": 41,
     "metadata": {},
     "output_type": "execute_result"
    }
   ],
   "source": [
    "k_means = KMeans(n_clusters = 5)\n",
    "k_means.fit(scaled_df)\n",
    "k_means.inertia_"
   ]
  },
  {
   "cell_type": "code",
   "execution_count": 42,
   "id": "89b0624a",
   "metadata": {},
   "outputs": [
    {
     "data": {
      "text/plain": [
       "60210.822025591355"
      ]
     },
     "execution_count": 42,
     "metadata": {},
     "output_type": "execute_result"
    }
   ],
   "source": [
    "k_means = KMeans(n_clusters = 6)\n",
    "k_means.fit(scaled_df)\n",
    "k_means.inertia_"
   ]
  },
  {
   "cell_type": "code",
   "execution_count": 43,
   "id": "d6d4eb8d",
   "metadata": {},
   "outputs": [
    {
     "data": {
      "text/plain": [
       "52263.26547098992"
      ]
     },
     "execution_count": 43,
     "metadata": {},
     "output_type": "execute_result"
    }
   ],
   "source": [
    "k_means = KMeans(n_clusters = 7)\n",
    "k_means.fit(scaled_df)\n",
    "k_means.inertia_"
   ]
  },
  {
   "cell_type": "code",
   "execution_count": 44,
   "id": "4321a228",
   "metadata": {},
   "outputs": [
    {
     "data": {
      "text/plain": [
       "45751.59741106696"
      ]
     },
     "execution_count": 44,
     "metadata": {},
     "output_type": "execute_result"
    }
   ],
   "source": [
    "k_means = KMeans(n_clusters = 8)\n",
    "k_means.fit(scaled_df)\n",
    "k_means.inertia_"
   ]
  },
  {
   "cell_type": "code",
   "execution_count": 45,
   "id": "f2d790f7",
   "metadata": {},
   "outputs": [
    {
     "data": {
      "text/plain": [
       "40403.58514791088"
      ]
     },
     "execution_count": 45,
     "metadata": {},
     "output_type": "execute_result"
    }
   ],
   "source": [
    "k_means = KMeans(n_clusters = 9)\n",
    "k_means.fit(scaled_df)\n",
    "k_means.inertia_"
   ]
  },
  {
   "cell_type": "code",
   "execution_count": 46,
   "id": "024e7cf9",
   "metadata": {},
   "outputs": [
    {
     "data": {
      "text/plain": [
       "36423.24589789109"
      ]
     },
     "execution_count": 46,
     "metadata": {},
     "output_type": "execute_result"
    }
   ],
   "source": [
    "k_means = KMeans(n_clusters = 10)\n",
    "k_means.fit(scaled_df)\n",
    "k_means.inertia_"
   ]
  },
  {
   "cell_type": "code",
   "execution_count": 47,
   "id": "bf96b9d6",
   "metadata": {},
   "outputs": [],
   "source": [
    "wss =[] \n",
    "for i in range(1,11):\n",
    "    KM = KMeans(n_clusters=i)\n",
    "    KM.fit(scaled_df)\n",
    "    wss.append(KM.inertia_)"
   ]
  },
  {
   "cell_type": "code",
   "execution_count": 48,
   "id": "01860da6",
   "metadata": {},
   "outputs": [
    {
     "name": "stderr",
     "output_type": "stream",
     "text": [
      "C:\\Users\\Studio SoundBox\\anaconda3\\lib\\site-packages\\seaborn\\_decorators.py:36: FutureWarning: Pass the following variables as keyword args: x, y. From version 0.12, the only valid positional argument will be `data`, and passing other arguments without an explicit keyword will result in an error or misinterpretation.\n",
      "  warnings.warn(\n"
     ]
    },
    {
     "data": {
      "image/png": "[encoded data removed]",
      "text/plain": [
       "<Figure size 800x400 with 1 Axes>"
      ]
     },
     "metadata": {},
     "output_type": "display_data"
    }
   ],
   "source": [
    "n=[1,2,3,4,5,6,7,8,9,10]\n",
    "sns.pointplot(n, wss);"
   ]
  },
  {
   "cell_type": "code",
   "execution_count": 49,
   "id": "90c14836",
   "metadata": {},
   "outputs": [
    {
     "data": {
      "text/plain": [
       "[<matplotlib.lines.Line2D at 0x2ca1f989610>]"
      ]
     },
     "execution_count": 49,
     "metadata": {},
     "output_type": "execute_result"
    },
    {
     "data": {
      "image/png": "[encoded data removed]",
      "text/plain": [
       "<Figure size 800x400 with 1 Axes>"
      ]
     },
     "metadata": {},
     "output_type": "display_data"
    }
   ],
   "source": [
    "n=[1,2,3,4,5,6,7,8,9,10]\n",
    "plt.plot(n, wss)"
   ]
  },
  {
   "cell_type": "markdown",
   "id": "086c138c",
   "metadata": {},
   "source": [
    "### Print silhouette scores for up to 10 clusters and identify optimum number of clusters"
   ]
  },
  {
   "cell_type": "code",
   "execution_count": 51,
   "id": "32d137b3",
   "metadata": {},
   "outputs": [],
   "source": [
    "# KMeans with K=2\n",
    "k_means = KMeans(n_clusters = 2,random_state=1)\n",
    "k_means.fit(scaled_df)\n",
    "labels = k_means.labels_"
   ]
  },
  {
   "cell_type": "code",
   "execution_count": 52,
   "id": "0f98189b",
   "metadata": {},
   "outputs": [
    {
     "data": {
      "text/plain": [
       "0.377271089915075"
      ]
     },
     "execution_count": 52,
     "metadata": {},
     "output_type": "execute_result"
    }
   ],
   "source": [
    "# Calculating silhouette_score\n",
    "silhouette_score(scaled_df,labels,random_state=1)"
   ]
  },
  {
   "cell_type": "code",
   "execution_count": 53,
   "id": "6ad79e3c",
   "metadata": {},
   "outputs": [
    {
     "data": {
      "text/plain": [
       "0.35144214786495837"
      ]
     },
     "execution_count": 53,
     "metadata": {},
     "output_type": "execute_result"
    }
   ],
   "source": [
    "# KMeans with K=3\n",
    "k_means = KMeans(n_clusters = 3,random_state=1)\n",
    "k_means.fit(scaled_df)\n",
    "labels = k_means.labels_\n",
    "\n",
    "# Calculating silhouette_score\n",
    "silhouette_score(scaled_df,labels,random_state=1)"
   ]
  },
  {
   "cell_type": "code",
   "execution_count": 54,
   "id": "db6f3e01",
   "metadata": {},
   "outputs": [
    {
     "data": {
      "text/plain": [
       "0.42540130124829434"
      ]
     },
     "execution_count": 54,
     "metadata": {},
     "output_type": "execute_result"
    }
   ],
   "source": [
    "# KMeans with K=4\n",
    "k_means = KMeans(n_clusters = 4,random_state=1)\n",
    "k_means.fit(scaled_df)\n",
    "labels = k_means.labels_\n",
    "\n",
    "# Calculating silhouette_score\n",
    "silhouette_score(scaled_df,labels,random_state=1)"
   ]
  },
  {
   "cell_type": "code",
   "execution_count": 55,
   "id": "4395d228",
   "metadata": {},
   "outputs": [
    {
     "data": {
      "text/plain": [
       "0.4836179092139885"
      ]
     },
     "execution_count": 55,
     "metadata": {},
     "output_type": "execute_result"
    }
   ],
   "source": [
    "# KMeans with K=5\n",
    "k_means = KMeans(n_clusters = 5,random_state=1)\n",
    "k_means.fit(scaled_df)\n",
    "labels = k_means.labels_\n",
    "\n",
    "# Calculating silhouette_score\n",
    "silhouette_score(scaled_df,labels,random_state=1)"
   ]
  },
  {
   "cell_type": "code",
   "execution_count": 56,
   "id": "ad2897f1",
   "metadata": {},
   "outputs": [
    {
     "data": {
      "text/plain": [
       "0.4796695063813273"
      ]
     },
     "execution_count": 56,
     "metadata": {},
     "output_type": "execute_result"
    }
   ],
   "source": [
    "# KMeans with K=6\n",
    "k_means = KMeans(n_clusters = 6,random_state=1)\n",
    "k_means.fit(scaled_df)\n",
    "labels = k_means.labels_\n",
    "\n",
    "# Calculating silhouette_score\n",
    "silhouette_score(scaled_df,labels,random_state=1)"
   ]
  },
  {
   "cell_type": "code",
   "execution_count": 57,
   "id": "09a11e3b",
   "metadata": {},
   "outputs": [
    {
     "data": {
      "text/plain": [
       "0.48217051064194233"
      ]
     },
     "execution_count": 57,
     "metadata": {},
     "output_type": "execute_result"
    }
   ],
   "source": [
    "# KMeans with K=7\n",
    "k_means = KMeans(n_clusters = 7,random_state=1)\n",
    "k_means.fit(scaled_df)\n",
    "labels = k_means.labels_\n",
    "\n",
    "# Calculating silhouette_score\n",
    "silhouette_score(scaled_df,labels,random_state=1)"
   ]
  },
  {
   "cell_type": "code",
   "execution_count": 58,
   "id": "fc293bda",
   "metadata": {},
   "outputs": [
    {
     "data": {
      "text/plain": [
       "0.5055486795667062"
      ]
     },
     "execution_count": 58,
     "metadata": {},
     "output_type": "execute_result"
    }
   ],
   "source": [
    "# KMeans with K=8\n",
    "k_means = KMeans(n_clusters = 8,random_state=1)\n",
    "k_means.fit(scaled_df)\n",
    "labels = k_means.labels_\n",
    "\n",
    "# Calculating silhouette_score\n",
    "silhouette_score(scaled_df,labels,random_state=1)"
   ]
  },
  {
   "cell_type": "code",
   "execution_count": 59,
   "id": "712d79f5",
   "metadata": {},
   "outputs": [
    {
     "data": {
      "text/plain": [
       "0.5023303551378494"
      ]
     },
     "execution_count": 59,
     "metadata": {},
     "output_type": "execute_result"
    }
   ],
   "source": [
    "# KMeans with K=9\n",
    "k_means = KMeans(n_clusters = 9,random_state=1)\n",
    "k_means.fit(scaled_df)\n",
    "labels = k_means.labels_\n",
    "\n",
    "# Calculating silhouette_score\n",
    "silhouette_score(scaled_df,labels,random_state=1)"
   ]
  },
  {
   "cell_type": "code",
   "execution_count": 60,
   "id": "254536f3",
   "metadata": {},
   "outputs": [
    {
     "data": {
      "text/plain": [
       "0.47373199093432417"
      ]
     },
     "execution_count": 60,
     "metadata": {},
     "output_type": "execute_result"
    }
   ],
   "source": [
    "# KMeans with K=10\n",
    "k_means = KMeans(n_clusters = 10,random_state=1)\n",
    "k_means.fit(scaled_df)\n",
    "labels = k_means.labels_\n",
    "\n",
    "# Calculating silhouette_score\n",
    "silhouette_score(scaled_df,labels,random_state=1)"
   ]
  },
  {
   "cell_type": "code",
   "execution_count": 61,
   "id": "049e6fcb",
   "metadata": {},
   "outputs": [
    {
     "data": {
      "text/plain": [
       "0.4860779597881378"
      ]
     },
     "execution_count": 61,
     "metadata": {},
     "output_type": "execute_result"
    }
   ],
   "source": [
    "# KMeans with K=11\n",
    "k_means = KMeans(n_clusters = 11,random_state=1)\n",
    "k_means.fit(scaled_df)\n",
    "labels = k_means.labels_\n",
    "\n",
    "# Calculating silhouette_score\n",
    "silhouette_score(scaled_df,labels,random_state=1)"
   ]
  },
  {
   "cell_type": "markdown",
   "id": "212e992f",
   "metadata": {},
   "source": [
    "### Though the silhouette score for k = 8 is better, the wss plot shows k = 5 is better. So finalising the k values as 5"
   ]
  },
  {
   "cell_type": "code",
   "execution_count": 62,
   "id": "511811f4",
   "metadata": {},
   "outputs": [
    {
     "data": {
      "text/plain": [
       "74695.77249416713"
      ]
     },
     "execution_count": 62,
     "metadata": {},
     "output_type": "execute_result"
    }
   ],
   "source": [
    "k_means = KMeans(n_clusters = 5)\n",
    "k_means.fit(scaled_df)\n",
    "k_means.inertia_"
   ]
  },
  {
   "cell_type": "code",
   "execution_count": 63,
   "id": "f17e098d",
   "metadata": {},
   "outputs": [],
   "source": [
    "k_means = KMeans(n_clusters = 5,random_state=1)\n",
    "k_means.fit(scaled_df)\n",
    "labels = k_means.labels_"
   ]
  },
  {
   "cell_type": "markdown",
   "id": "7b47e2e2",
   "metadata": {},
   "source": [
    "#### Profile the ads based on optimum number of clusters using silhouette score and your domain understanding\n",
    "[Hint: Group the data by clusters and take sum or mean to identify trends in clicks, spend, revenue, CPM, CTR, & CPC based on Device Type. Make bar plots.]"
   ]
  },
  {
   "cell_type": "code",
   "execution_count": 64,
   "id": "55d8f508",
   "metadata": {},
   "outputs": [
    {
     "data": {
      "text/html": [
       "<div>\n",
       "<style scoped>\n",
       "    .dataframe tbody tr th:only-of-type {\n",
       "        vertical-align: middle;\n",
       "    }\n",
       "\n",
       "    .dataframe tbody tr th {\n",
       "        vertical-align: top;\n",
       "    }\n",
       "\n",
       "    .dataframe thead th {\n",
       "        text-align: right;\n",
       "    }\n",
       "</style>\n",
       "<table border=\"1\" class=\"dataframe\">\n",
       "  <thead>\n",
       "    <tr style=\"text-align: right;\">\n",
       "      <th></th>\n",
       "      <th>Ad - Length</th>\n",
       "      <th>Ad- Width</th>\n",
       "      <th>Ad Size</th>\n",
       "      <th>Available_Impressions</th>\n",
       "      <th>Matched_Queries</th>\n",
       "      <th>Impressions</th>\n",
       "      <th>Clicks</th>\n",
       "      <th>Spend</th>\n",
       "      <th>Fee</th>\n",
       "      <th>Revenue</th>\n",
       "      <th>CTR</th>\n",
       "      <th>CPM</th>\n",
       "      <th>CPC</th>\n",
       "      <th>Clus_kmeans5</th>\n",
       "    </tr>\n",
       "  </thead>\n",
       "  <tbody>\n",
       "    <tr>\n",
       "      <th>0</th>\n",
       "      <td>300.0</td>\n",
       "      <td>250.0</td>\n",
       "      <td>75000.0</td>\n",
       "      <td>1806.0</td>\n",
       "      <td>325.0</td>\n",
       "      <td>323.0</td>\n",
       "      <td>1.0</td>\n",
       "      <td>0.0</td>\n",
       "      <td>0.35</td>\n",
       "      <td>0.0</td>\n",
       "      <td>0.309598</td>\n",
       "      <td>0.0</td>\n",
       "      <td>0.000000</td>\n",
       "      <td>1</td>\n",
       "    </tr>\n",
       "    <tr>\n",
       "      <th>1</th>\n",
       "      <td>300.0</td>\n",
       "      <td>250.0</td>\n",
       "      <td>75000.0</td>\n",
       "      <td>1979.0</td>\n",
       "      <td>384.0</td>\n",
       "      <td>380.0</td>\n",
       "      <td>0.0</td>\n",
       "      <td>0.0</td>\n",
       "      <td>0.35</td>\n",
       "      <td>0.0</td>\n",
       "      <td>0.000000</td>\n",
       "      <td>0.0</td>\n",
       "      <td>0.139347</td>\n",
       "      <td>1</td>\n",
       "    </tr>\n",
       "    <tr>\n",
       "      <th>2</th>\n",
       "      <td>336.0</td>\n",
       "      <td>250.0</td>\n",
       "      <td>84000.0</td>\n",
       "      <td>1566.0</td>\n",
       "      <td>298.0</td>\n",
       "      <td>297.0</td>\n",
       "      <td>0.0</td>\n",
       "      <td>0.0</td>\n",
       "      <td>0.35</td>\n",
       "      <td>0.0</td>\n",
       "      <td>0.000000</td>\n",
       "      <td>0.0</td>\n",
       "      <td>0.139347</td>\n",
       "      <td>1</td>\n",
       "    </tr>\n",
       "    <tr>\n",
       "      <th>3</th>\n",
       "      <td>300.0</td>\n",
       "      <td>250.0</td>\n",
       "      <td>75000.0</td>\n",
       "      <td>643.0</td>\n",
       "      <td>103.0</td>\n",
       "      <td>102.0</td>\n",
       "      <td>0.0</td>\n",
       "      <td>0.0</td>\n",
       "      <td>0.35</td>\n",
       "      <td>0.0</td>\n",
       "      <td>0.000000</td>\n",
       "      <td>0.0</td>\n",
       "      <td>0.139347</td>\n",
       "      <td>1</td>\n",
       "    </tr>\n",
       "    <tr>\n",
       "      <th>4</th>\n",
       "      <td>300.0</td>\n",
       "      <td>250.0</td>\n",
       "      <td>75000.0</td>\n",
       "      <td>1550.0</td>\n",
       "      <td>347.0</td>\n",
       "      <td>345.0</td>\n",
       "      <td>0.0</td>\n",
       "      <td>0.0</td>\n",
       "      <td>0.35</td>\n",
       "      <td>0.0</td>\n",
       "      <td>0.000000</td>\n",
       "      <td>0.0</td>\n",
       "      <td>0.139347</td>\n",
       "      <td>1</td>\n",
       "    </tr>\n",
       "  </tbody>\n",
       "</table>\n",
       "</div>"
      ],
      "text/plain": [
       "   Ad - Length  Ad- Width  Ad Size  Available_Impressions  Matched_Queries  \\\n",
       "0        300.0      250.0  75000.0                 1806.0            325.0   \n",
       "1        300.0      250.0  75000.0                 1979.0            384.0   \n",
       "2        336.0      250.0  84000.0                 1566.0            298.0   \n",
       "3        300.0      250.0  75000.0                  643.0            103.0   \n",
       "4        300.0      250.0  75000.0                 1550.0            347.0   \n",
       "\n",
       "   Impressions  Clicks  Spend   Fee  Revenue       CTR  CPM       CPC  \\\n",
       "0        323.0     1.0    0.0  0.35      0.0  0.309598  0.0  0.000000   \n",
       "1        380.0     0.0    0.0  0.35      0.0  0.000000  0.0  0.139347   \n",
       "2        297.0     0.0    0.0  0.35      0.0  0.000000  0.0  0.139347   \n",
       "3        102.0     0.0    0.0  0.35      0.0  0.000000  0.0  0.139347   \n",
       "4        345.0     0.0    0.0  0.35      0.0  0.000000  0.0  0.139347   \n",
       "\n",
       "   Clus_kmeans5  \n",
       "0             1  \n",
       "1             1  \n",
       "2             1  \n",
       "3             1  \n",
       "4             1  "
      ]
     },
     "execution_count": 64,
     "metadata": {},
     "output_type": "execute_result"
    }
   ],
   "source": [
    "#evaluation of clusters for 5 clusters\n",
    "df_num[\"Clus_kmeans5\"] = labels\n",
    "df_num.head()"
   ]
  },
  {
   "cell_type": "code",
   "execution_count": 65,
   "id": "a1db8462",
   "metadata": {},
   "outputs": [
    {
     "data": {
      "text/plain": [
       "0    5668\n",
       "1    7587\n",
       "2    6420\n",
       "3    4495\n",
       "4    1687\n",
       "Name: Clus_kmeans5, dtype: int64"
      ]
     },
     "execution_count": 65,
     "metadata": {},
     "output_type": "execute_result"
    }
   ],
   "source": [
    "df_num.Clus_kmeans5.value_counts().sort_index()"
   ]
  },
  {
   "cell_type": "code",
   "execution_count": 66,
   "id": "e7b38f67",
   "metadata": {},
   "outputs": [
    {
     "data": {
      "text/html": [
       "<div>\n",
       "<style scoped>\n",
       "    .dataframe tbody tr th:only-of-type {\n",
       "        vertical-align: middle;\n",
       "    }\n",
       "\n",
       "    .dataframe tbody tr th {\n",
       "        vertical-align: top;\n",
       "    }\n",
       "\n",
       "    .dataframe thead th {\n",
       "        text-align: right;\n",
       "    }\n",
       "</style>\n",
       "<table border=\"1\" class=\"dataframe\">\n",
       "  <thead>\n",
       "    <tr style=\"text-align: right;\">\n",
       "      <th></th>\n",
       "      <th>Ad - Length</th>\n",
       "      <th>Ad- Width</th>\n",
       "      <th>Ad Size</th>\n",
       "      <th>Available_Impressions</th>\n",
       "      <th>Matched_Queries</th>\n",
       "      <th>Impressions</th>\n",
       "      <th>Clicks</th>\n",
       "      <th>Spend</th>\n",
       "      <th>Fee</th>\n",
       "      <th>Revenue</th>\n",
       "      <th>CTR</th>\n",
       "      <th>CPM</th>\n",
       "      <th>CPC</th>\n",
       "      <th>freq</th>\n",
       "    </tr>\n",
       "    <tr>\n",
       "      <th>Clus_kmeans5</th>\n",
       "      <th></th>\n",
       "      <th></th>\n",
       "      <th></th>\n",
       "      <th></th>\n",
       "      <th></th>\n",
       "      <th></th>\n",
       "      <th></th>\n",
       "      <th></th>\n",
       "      <th></th>\n",
       "      <th></th>\n",
       "      <th></th>\n",
       "      <th></th>\n",
       "      <th></th>\n",
       "      <th></th>\n",
       "    </tr>\n",
       "  </thead>\n",
       "  <tbody>\n",
       "    <tr>\n",
       "      <th>0</th>\n",
       "      <td>683.525759</td>\n",
       "      <td>307.515879</td>\n",
       "      <td>100971.065632</td>\n",
       "      <td>2.064732e+05</td>\n",
       "      <td>1.125753e+05</td>\n",
       "      <td>9.557604e+04</td>\n",
       "      <td>11173.230769</td>\n",
       "      <td>1016.915797</td>\n",
       "      <td>0.35</td>\n",
       "      <td>662.163581</td>\n",
       "      <td>10.923127</td>\n",
       "      <td>9.858460</td>\n",
       "      <td>0.098822</td>\n",
       "      <td>5668</td>\n",
       "    </tr>\n",
       "    <tr>\n",
       "      <th>1</th>\n",
       "      <td>396.442863</td>\n",
       "      <td>170.104125</td>\n",
       "      <td>66312.819296</td>\n",
       "      <td>1.313666e+06</td>\n",
       "      <td>6.141246e+05</td>\n",
       "      <td>5.852467e+05</td>\n",
       "      <td>2477.630420</td>\n",
       "      <td>1067.502834</td>\n",
       "      <td>0.35</td>\n",
       "      <td>694.072990</td>\n",
       "      <td>0.327080</td>\n",
       "      <td>1.383107</td>\n",
       "      <td>0.417880</td>\n",
       "      <td>7587</td>\n",
       "    </tr>\n",
       "    <tr>\n",
       "      <th>2</th>\n",
       "      <td>142.345794</td>\n",
       "      <td>573.232087</td>\n",
       "      <td>73888.317757</td>\n",
       "      <td>2.736594e+04</td>\n",
       "      <td>1.620953e+04</td>\n",
       "      <td>1.056672e+04</td>\n",
       "      <td>1562.831620</td>\n",
       "      <td>163.958125</td>\n",
       "      <td>0.35</td>\n",
       "      <td>106.572726</td>\n",
       "      <td>15.721169</td>\n",
       "      <td>14.195956</td>\n",
       "      <td>0.101818</td>\n",
       "      <td>6420</td>\n",
       "    </tr>\n",
       "    <tr>\n",
       "      <th>3</th>\n",
       "      <td>457.702336</td>\n",
       "      <td>202.729700</td>\n",
       "      <td>73178.402670</td>\n",
       "      <td>5.010427e+06</td>\n",
       "      <td>2.394514e+06</td>\n",
       "      <td>2.273439e+06</td>\n",
       "      <td>10513.331702</td>\n",
       "      <td>5134.198160</td>\n",
       "      <td>0.35</td>\n",
       "      <td>3416.868807</td>\n",
       "      <td>0.217899</td>\n",
       "      <td>1.595294</td>\n",
       "      <td>0.744367</td>\n",
       "      <td>4495</td>\n",
       "    </tr>\n",
       "    <tr>\n",
       "      <th>4</th>\n",
       "      <td>143.516301</td>\n",
       "      <td>571.576763</td>\n",
       "      <td>73970.361589</td>\n",
       "      <td>7.569877e+05</td>\n",
       "      <td>5.333278e+05</td>\n",
       "      <td>4.498535e+05</td>\n",
       "      <td>25733.242442</td>\n",
       "      <td>5747.241159</td>\n",
       "      <td>0.35</td>\n",
       "      <td>3794.016859</td>\n",
       "      <td>13.788011</td>\n",
       "      <td>15.556804</td>\n",
       "      <td>0.113103</td>\n",
       "      <td>1687</td>\n",
       "    </tr>\n",
       "  </tbody>\n",
       "</table>\n",
       "</div>"
      ],
      "text/plain": [
       "              Ad - Length   Ad- Width        Ad Size  Available_Impressions  \\\n",
       "Clus_kmeans5                                                                  \n",
       "0              683.525759  307.515879  100971.065632           2.064732e+05   \n",
       "1              396.442863  170.104125   66312.819296           1.313666e+06   \n",
       "2              142.345794  573.232087   73888.317757           2.736594e+04   \n",
       "3              457.702336  202.729700   73178.402670           5.010427e+06   \n",
       "4              143.516301  571.576763   73970.361589           7.569877e+05   \n",
       "\n",
       "              Matched_Queries   Impressions        Clicks        Spend   Fee  \\\n",
       "Clus_kmeans5                                                                   \n",
       "0                1.125753e+05  9.557604e+04  11173.230769  1016.915797  0.35   \n",
       "1                6.141246e+05  5.852467e+05   2477.630420  1067.502834  0.35   \n",
       "2                1.620953e+04  1.056672e+04   1562.831620   163.958125  0.35   \n",
       "3                2.394514e+06  2.273439e+06  10513.331702  5134.198160  0.35   \n",
       "4                5.333278e+05  4.498535e+05  25733.242442  5747.241159  0.35   \n",
       "\n",
       "                  Revenue        CTR        CPM       CPC  freq  \n",
       "Clus_kmeans5                                                     \n",
       "0              662.163581  10.923127   9.858460  0.098822  5668  \n",
       "1              694.072990   0.327080   1.383107  0.417880  7587  \n",
       "2              106.572726  15.721169  14.195956  0.101818  6420  \n",
       "3             3416.868807   0.217899   1.595294  0.744367  4495  \n",
       "4             3794.016859  13.788011  15.556804  0.113103  1687  "
      ]
     },
     "execution_count": 66,
     "metadata": {},
     "output_type": "execute_result"
    }
   ],
   "source": [
    "#profiling of cluster\n",
    "clust_profile=df_num\n",
    "clust_profile=clust_profile.groupby('Clus_kmeans5').mean()\n",
    "clust_profile['freq']=df_num.Clus_kmeans5.value_counts().sort_index()\n",
    "clust_profile"
   ]
  },
  {
   "cell_type": "markdown",
   "id": "a36245b7",
   "metadata": {},
   "source": [
    "## Cluster summary\n",
    "\n",
    "Cluster 0 has the longest ads, the largest ads, the greatest spends, the most income, the highest CPM and CTR, and the second highest clicks. When compared to other clusters, it has a low cost per click.\n",
    "\n",
    "Cluster 1 has the medium ad duration, smallest ad size, less clicks, medium spending, medium income, highest click through rate, highest CPM, and average CPC.\n",
    "\n",
    "Cluster 2 has the Shortest ad length, widest ad width, largest ad size, fewest clicks, lowest spend, lowest revenue, greatest CTR, highest CPM, and lowest CPC.\n",
    "\n",
    "Cluster 3 has the Average ad size, high clicks, high expenditure, high income, lowest CTR, lowest CPM, second highest CPC\n",
    "\n",
    "Cluster 4 has the shortest ad duration, the largest ad size, the most clicks, the average spend, the greatest revenue, the highest click through rate, the highest CPM, and the lowest CPC.\\\n"
   ]
  }
 ],
 "metadata": {
  "kernelspec": {
   "display_name": "Python 3 (ipykernel)",
   "language": "python",
   "name": "python3"
  },
  "language_info": {
   "codemirror_mode": {
    "name": "ipython",
    "version": 3
   },
   "file_extension": ".py",
   "mimetype": "text/x-python",
   "name": "python",
   "nbconvert_exporter": "python",
   "pygments_lexer": "ipython3",
   "version": "3.9.13"
  }
 },
 "nbformat": 4,
 "nbformat_minor": 5
}
